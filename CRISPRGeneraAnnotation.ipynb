{
 "cells": [
  {
   "cell_type": "code",
   "execution_count": 140,
   "metadata": {},
   "outputs": [],
   "source": [
    "import json\n",
    "import pandas as pd"
   ]
  },
  {
   "cell_type": "code",
   "execution_count": 141,
   "metadata": {},
   "outputs": [],
   "source": [
    "gbsum = pd.read_csv('allCRISPRAnnotationData/gbffsumarry.csv',delimiter='~')\n",
    "cone = pd.DataFrame(json.load(open('allCRISPRAnnotationData/CRISPRone_files/mp_CRISPRoneAnnotations_01_11_18SR.json')))\n",
    "ncbi = pd.DataFrame(json.load(open('allCRISPRAnnotationData/ncbiAnnotations_02_11_18SR.json')))"
   ]
  },
  {
   "cell_type": "code",
   "execution_count": 142,
   "metadata": {},
   "outputs": [],
   "source": [
    "ncbi = ncbi.fillna('None') #fill NaN floats with string 'None'\n",
    "ncbi['GCF'] = ncbi['RefSeq assembly accession'].apply(lambda x: x.strip(' (latest)'))"
   ]
  },
  {
   "cell_type": "code",
   "execution_count": 143,
   "metadata": {},
   "outputs": [],
   "source": [
    "# print(gbsum[gbsum['GCF'] ==  'GCA_000013425.1']) #no GCA \n",
    "# print(cone[cone['GCA'] ==  'GCA_000013425.1_ASM1342v1']) #no GCF\n",
    "# print(ncbi[ncbi['GCA'] ==  'GCA_000013425.1_ASM1342v1']) #Both, used to join other 2 cols"
   ]
  },
  {
   "cell_type": "code",
   "execution_count": 144,
   "metadata": {},
   "outputs": [
    {
     "name": "stdout",
     "output_type": "stream",
     "text": [
      "(11144, 33)\n",
      "(8269, 42)\n",
      "(8269, 48)\n"
     ]
    }
   ],
   "source": [
    "cn = pd.merge(cone, ncbi, how='inner', on='GCA') # merge CRISPRone annotations with NCBI info, for merging with gbffsummary\n",
    "print(cn.shape)\n",
    "ng = pd.merge(ncbi,gbsum,how='inner',on='GCF')\n",
    "print(ng.shape)\n",
    "gcn = pd.merge(cn, gbsum, how='inner', on='GCF') #merfe with gbff summary, all annotation,ncbi data traced back to gbff summary and filepaths on infoserv\n",
    "print(gcn.shape) #should be 10614\n",
    "# gcn[gcn['GCF'] ==  'GCF_000013425.1']\n",
    "gcn['isCRISPR'] = gcn['Cas Proteins (CRISPRone)'].apply(lambda x:False if ('No System' in x) or (len(x) == 0) else True)\n",
    "# gcn.iloc[0]"
   ]
  },
  {
   "cell_type": "code",
   "execution_count": 145,
   "metadata": {},
   "outputs": [],
   "source": [
    "# populated_genera = [x for x in set(gcn['Genus']) if [gcn[gcn['Genus'] == x].shape[0] > 4]]\n",
    "# pop_data = gcn[gcn['Genus'].isin(populated_genera)]\n",
    "# pop_data['isCRISPR'] = pop_data['Cas Proteins (CRISPRone)'].apply(lambda x:False if ('No System' in x) or (len(x) == 0) else True)\n",
    "\n",
    "# print(len(set(pop_data['Genus'])))\n",
    "# print(pop_data.shape[0])\n",
    "# print(pop_data[pop_data['isCRISPR'] == False].shape[0])\n",
    "# print(pop_data[pop_data['isCRISPR'] == True].shape[0])\n",
    "\n",
    "# # mixedgen = set(pop_data[pop_data['isCRISPR'] == True]['Genus'])\n",
    "# # df = pd.DataFrame([{'genus':genus,'size':pop_data[pop_data['Genus'] == genus].size} for genus in mixedgen])\n",
    "# # df.sort_values('size')\n",
    "# mixedgen = set(pop_data[pop_data['isCRISPR'] == True]['Genus'].values)\n",
    "# df = pd.DataFrame([{'genus':genus,'size':pop_data[pop_data['Genus'] == genus].shape[0]} for genus in mixedgen])\n",
    "# pop_genera = df[df['size'] > 4].sort_values('size')\n",
    "# # pop_genera.head()"
   ]
  },
  {
   "cell_type": "code",
   "execution_count": 146,
   "metadata": {},
   "outputs": [],
   "source": [
    "# df[df['size'] == 15]"
   ]
  },
  {
   "cell_type": "code",
   "execution_count": 163,
   "metadata": {},
   "outputs": [
    {
     "data": {
      "text/html": [
       "<div>\n",
       "<style scoped>\n",
       "    .dataframe tbody tr th:only-of-type {\n",
       "        vertical-align: middle;\n",
       "    }\n",
       "\n",
       "    .dataframe tbody tr th {\n",
       "        vertical-align: top;\n",
       "    }\n",
       "\n",
       "    .dataframe thead th {\n",
       "        text-align: right;\n",
       "    }\n",
       "</style>\n",
       "<table border=\"1\" class=\"dataframe\">\n",
       "  <thead>\n",
       "    <tr style=\"text-align: right;\">\n",
       "      <th></th>\n",
       "      <th>Accession Number</th>\n",
       "      <th>Assembly anomaly</th>\n",
       "      <th>Assembly level</th>\n",
       "      <th>Assembly method</th>\n",
       "      <th>BioProject</th>\n",
       "      <th>BioSample</th>\n",
       "      <th>CDS (coding)</th>\n",
       "      <th>CDS (total)</th>\n",
       "      <th>Cas Proteins (CRISPRone)</th>\n",
       "      <th>Date</th>\n",
       "      <th>...</th>\n",
       "      <th>Relation to type material</th>\n",
       "      <th>Release type</th>\n",
       "      <th>Report_URL</th>\n",
       "      <th>Sequencing technology</th>\n",
       "      <th>Single-cell amplification</th>\n",
       "      <th>Submitter</th>\n",
       "      <th>System Types (CRISPRone)</th>\n",
       "      <th>Taxonomy</th>\n",
       "      <th>ncRNAs</th>\n",
       "      <th>tRNAs</th>\n",
       "    </tr>\n",
       "  </thead>\n",
       "  <tbody>\n",
       "    <tr>\n",
       "      <th>0</th>\n",
       "      <td>NZ_CP011052</td>\n",
       "      <td>not important</td>\n",
       "      <td>not important</td>\n",
       "      <td>not important</td>\n",
       "      <td>not important</td>\n",
       "      <td>not important</td>\n",
       "      <td>not important</td>\n",
       "      <td>not important</td>\n",
       "      <td>there</td>\n",
       "      <td>not important</td>\n",
       "      <td>...</td>\n",
       "      <td>not important</td>\n",
       "      <td>not important</td>\n",
       "      <td>http://omics.informatics.indiana.edu/CRISPRone...</td>\n",
       "      <td>not important</td>\n",
       "      <td>not important</td>\n",
       "      <td>not important</td>\n",
       "      <td>(type I)</td>\n",
       "      <td>not important</td>\n",
       "      <td>not important</td>\n",
       "      <td>not important</td>\n",
       "    </tr>\n",
       "  </tbody>\n",
       "</table>\n",
       "<p>1 rows × 48 columns</p>\n",
       "</div>"
      ],
      "text/plain": [
       "  Accession Number Assembly anomaly Assembly level Assembly method  \\\n",
       "0      NZ_CP011052    not important  not important   not important   \n",
       "\n",
       "      BioProject      BioSample   CDS (coding)    CDS (total)  \\\n",
       "0  not important  not important  not important  not important   \n",
       "\n",
       "  Cas Proteins (CRISPRone)           Date      ...        \\\n",
       "0                    there  not important      ...         \n",
       "\n",
       "  Relation to type material   Release type  \\\n",
       "0             not important  not important   \n",
       "\n",
       "                                          Report_URL Sequencing technology  \\\n",
       "0  http://omics.informatics.indiana.edu/CRISPRone...         not important   \n",
       "\n",
       "  Single-cell amplification      Submitter System Types (CRISPRone)  \\\n",
       "0             not important  not important                 (type I)   \n",
       "\n",
       "        Taxonomy         ncRNAs          tRNAs  \n",
       "0  not important  not important  not important  \n",
       "\n",
       "[1 rows x 48 columns]"
      ]
     },
     "execution_count": 163,
     "metadata": {},
     "output_type": "execute_result"
    }
   ],
   "source": [
    "ko116data = {'Cas Proteins (CRISPRone)':['there'],\n",
    "                                                  u'GCA':'GCA_000734975.2_ASM73497v2',\n",
    "                                                 u'Name':'Halomonas sp. KO116',\n",
    "                               u'No. Arrays (CRISPRone)':1,\n",
    "                         u'No. Cas Proteins (CRISPRone)':15,\n",
    "                                           u'Report_URL':'http://omics.informatics.indiana.edu/CRISPRone/check.php?id=GCA_000734975.2_ASM73497v2&col=complete',\n",
    "                             u'System Types (CRISPRone)':\"(type I)\",\n",
    "                                     u'Assembly anomaly':'not important',\n",
    "                                       u'Assembly level':'not important',\n",
    "                                      u'Assembly method':'not important',\n",
    "                                           u'BioProject':'not important',\n",
    "                                            u'BioSample':'not important',\n",
    "                                                 u'Date':'not important',\n",
    "                                 u'Excluded from RefSeq':'not important',\n",
    "                               u'Expected final version':'not important',\n",
    "                           u'GenBank assembly accession':'not important',\n",
    "                                      u'Genome coverage':'not important',\n",
    "                                u'Genome representation':'not important',\n",
    "                                                   u'ID':'not important',\n",
    "                                   u'Infraspecific name':'not important',\n",
    "                                              u'Isolate':'not important',\n",
    "                                           u'Organism_x':'not important',\n",
    "                                        u'Organism name':'not important',\n",
    "                            u'RefSeq assembly accession':'not important',\n",
    "       u'RefSeq assembly and GenBank assembly identical':'not important',\n",
    "                                      u'RefSeq category':'not important',\n",
    "                            u'Reference guided assembly':'not important',\n",
    "                            u'Relation to type material':'not important',\n",
    "                                         u'Release type':'not important',\n",
    "                                u'Sequencing technology':'not important',\n",
    "                            u'Single-cell amplification':'not important',\n",
    "                                            u'Submitter':'not important',\n",
    "                                                  u'GCF':'not important',\n",
    "                                             u'Filepath':'not important',\n",
    "                                     u'Accession Number':'NZ_CP011052',\n",
    "                                           u'Organism_y':'not important',\n",
    "                                                u'Genus':'Halomonas',\n",
    "                                             u'Taxonomy':'not important',\n",
    "                                           u'IsComplete':'not important',\n",
    "                                   u'NCBI_CRISPR_Arrays':'not important',\n",
    "                                        u'Genes (total)':'not important',\n",
    "                                          u'CDS (total)':'not important',\n",
    "                                       u'Genes (coding)':'not important',\n",
    "                                         u'CDS (coding)':'not important',\n",
    "                                          u'Genes (RNA)':'not important',\n",
    "                                                u'tRNAs':'not important',\n",
    "                                               u'ncRNAs':'not important',\n",
    "                                 u'Pseudo Genes (total)':'not important'}\n",
    "pd.DataFrame(ko116data)"
   ]
  },
  {
   "cell_type": "code",
   "execution_count": 167,
   "metadata": {},
   "outputs": [
    {
     "data": {
      "text/plain": [
       "(8269, 49)"
      ]
     },
     "execution_count": 167,
     "metadata": {},
     "output_type": "execute_result"
    }
   ],
   "source": [
    "gbsum = pd.read_csv('allCRISPRAnnotationData/gbffsumarry.csv',delimiter='~')\n",
    "cone = pd.DataFrame(json.load(open('allCRISPRAnnotationData/CRISPRone_files/mp_CRISPRoneAnnotations_01_11_18SR.json')))\n",
    "ncbi = pd.DataFrame(json.load(open('allCRISPRAnnotationData/ncbiAnnotations_02_11_18SR.json')))\n",
    "ncbi = ncbi.fillna('None') #fill NaN floats with string 'None'\n",
    "ncbi['GCF'] = ncbi['RefSeq assembly accession'].apply(lambda x: x.strip(' (latest)'))\n",
    "cn = pd.merge(cone, ncbi, how='inner', on='GCA') # merge CRISPRone annotations with NCBI info, for merging with gbffsummary\n",
    "gcn = pd.merge(cn, gbsum, how='inner', on='GCF') #merge with gbff summary, all annotation,ncbi data traced back to gbff summary and filepaths on infoserv\n",
    "# print(gcn.shape)\n",
    "# gcn = gcn,pd.DataFrame(ko116data)\n",
    "# print(gcn.shape)\n",
    "gcn['isCRISPR'] = gcn['Cas Proteins (CRISPRone)'].apply(lambda x:False if ('No System' in x) or (len(x) == 0) else True)\n",
    "populated_genera = [x for x in set(gcn['Genus']) if [gcn[gcn['Genus'] == x].shape[0] > 4]]\n",
    "pop_data = gcn[gcn['Genus'].isin(populated_genera)]\n",
    "# pop_data['isCRISPR'] = pop_data['Cas Proteins (CRISPRone)'].apply(lambda x:False if ('No System' in x) or (len(x) == 0) else True)\n",
    "pop_data.shape"
   ]
  },
  {
   "cell_type": "code",
   "execution_count": 139,
   "metadata": {},
   "outputs": [
    {
     "name": "stdout",
     "output_type": "stream",
     "text": [
      "(8269, 48)\n",
      "(8269, 48)\n",
      "(8270, 49)\n",
      "(8270, 49)\n",
      "set([u'isCRISPR'])\n"
     ]
    }
   ],
   "source": [
    "# print(cone.columns)\n",
    "# print(gbsum.columns)\n",
    "# ncbi.columns\n",
    "# print(gcn.columns)\n",
    "# gcn = pd.merge(cn, gbsum, how='inner', on='GCF')\n",
    "# pcols = set(gcn.columns.values)\n",
    "# print(gcn.shape)\n",
    "# populated_genera = [x for x in set(gcn['Genus']) if [gcn[gcn['Genus'] == x].shape[0] > 4]]\n",
    "# pop_data = gcn[gcn['Genus'].isin(populated_genera)]\n",
    "# print(pop_data.shape)\n",
    "# pop_data = pop_data.append(pd.DataFrame(ko116data),sort=False)\n",
    "# print(pop_data.shape)\n",
    "# gcn = gcn.append(pd.DataFrame(ko116data),sort=False)\n",
    "# print(gcn.shape)\n",
    "# print(set(gcn.columns.values) - pcols)"
   ]
  },
  {
   "cell_type": "code",
   "execution_count": 168,
   "metadata": {},
   "outputs": [],
   "source": [
    "gcn.to_json('full_annotation_data_frame.json')\n",
    "pop_data.to_json('pop_annotation_data_frame.json')\n",
    "# gcn[gcn['Accession Number'] == 'NZ_CP011054']"
   ]
  },
  {
   "cell_type": "code",
   "execution_count": 107,
   "metadata": {},
   "outputs": [],
   "source": [
    "for genus in set(pop_data['Genus']):\n",
    "    with open('genus_filepaths/{}_filepaths.txt'.format(genus),'w') as outf:\n",
    "        for fp in pop_data[pop_data['Genus'] == genus]['Filepath'].values:\n",
    "            outf.write(fp + '\\n')"
   ]
  },
  {
   "cell_type": "code",
   "execution_count": 173,
   "metadata": {},
   "outputs": [
    {
     "data": {
      "text/html": [
       "<div>\n",
       "<style scoped>\n",
       "    .dataframe tbody tr th:only-of-type {\n",
       "        vertical-align: middle;\n",
       "    }\n",
       "\n",
       "    .dataframe tbody tr th {\n",
       "        vertical-align: top;\n",
       "    }\n",
       "\n",
       "    .dataframe thead th {\n",
       "        text-align: right;\n",
       "    }\n",
       "</style>\n",
       "<table border=\"1\" class=\"dataframe\">\n",
       "  <thead>\n",
       "    <tr style=\"text-align: right;\">\n",
       "      <th></th>\n",
       "      <th>genus</th>\n",
       "      <th>size</th>\n",
       "    </tr>\n",
       "  </thead>\n",
       "  <tbody>\n",
       "    <tr>\n",
       "      <th>364</th>\n",
       "      <td>Ehrlichia</td>\n",
       "      <td>15</td>\n",
       "    </tr>\n",
       "    <tr>\n",
       "      <th>374</th>\n",
       "      <td>Deinococcus</td>\n",
       "      <td>15</td>\n",
       "    </tr>\n",
       "    <tr>\n",
       "      <th>426</th>\n",
       "      <td>Halomonas</td>\n",
       "      <td>15</td>\n",
       "    </tr>\n",
       "    <tr>\n",
       "      <th>704</th>\n",
       "      <td>Sphingobium</td>\n",
       "      <td>15</td>\n",
       "    </tr>\n",
       "    <tr>\n",
       "      <th>805</th>\n",
       "      <td>Dehalococcoides</td>\n",
       "      <td>15</td>\n",
       "    </tr>\n",
       "    <tr>\n",
       "      <th>928</th>\n",
       "      <td>Achromobacter</td>\n",
       "      <td>15</td>\n",
       "    </tr>\n",
       "    <tr>\n",
       "      <th>960</th>\n",
       "      <td>Mannheimia</td>\n",
       "      <td>15</td>\n",
       "    </tr>\n",
       "  </tbody>\n",
       "</table>\n",
       "</div>"
      ],
      "text/plain": [
       "               genus  size\n",
       "364        Ehrlichia    15\n",
       "374      Deinococcus    15\n",
       "426        Halomonas    15\n",
       "704      Sphingobium    15\n",
       "805  Dehalococcoides    15\n",
       "928    Achromobacter    15\n",
       "960       Mannheimia    15"
      ]
     },
     "execution_count": 173,
     "metadata": {},
     "output_type": "execute_result"
    }
   ],
   "source": [
    "gs = pd.DataFrame({'genus':genus,'size':pop_data[pop_data['Genus'] == genus].shape[0]}\\\n",
    "             for genus in set(pop_data['Genus'].values))\n",
    "gs[gs['size'] ==15]"
   ]
  },
  {
   "cell_type": "code",
   "execution_count": 112,
   "metadata": {},
   "outputs": [
    {
     "name": "stdout",
     "output_type": "stream",
     "text": [
      "(15, 49)\n",
      "(15, 49)\n"
     ]
    }
   ],
   "source": [
    "ehr = pop_data[pop_data['Genus'] == 'Ehrlichia']\n",
    "ehr.to_json('./ehrlichia_annotation_data.json')\n",
    "meth = pop_data[pop_data['Genus'] == 'Mannheimia']\n",
    "print(meth.shape)\n",
    "meth.to_json('./mannheimia_annotation_data.json')\n",
    "hal = pop_data[pop_data['Genus'] == 'Halomonas']\n",
    "print(hal.shape)\n",
    "hal.to_json('./halomonas_annotation_data.json')"
   ]
  }
 ],
 "metadata": {
  "kernelspec": {
   "display_name": "Python 3",
   "language": "python",
   "name": "python3"
  },
  "language_info": {
   "codemirror_mode": {
    "name": "ipython",
    "version": 2
   },
   "file_extension": ".py",
   "mimetype": "text/x-python",
   "name": "python",
   "nbconvert_exporter": "python",
   "pygments_lexer": "ipython2",
   "version": "2.7.15"
  }
 },
 "nbformat": 4,
 "nbformat_minor": 2
}
