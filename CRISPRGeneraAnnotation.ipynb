{
 "cells": [
  {
   "cell_type": "code",
   "execution_count": 35,
   "metadata": {},
   "outputs": [],
   "source": [
    "import json\n",
    "import pandas as pd"
   ]
  },
  {
   "cell_type": "code",
   "execution_count": 36,
   "metadata": {},
   "outputs": [],
   "source": [
    "gbsum = pd.read_csv('allCRISPRAnnotationData/gbffsumarry.csv',delimiter='~')\n",
    "ncbi = pd.DataFrame(json.load(open('allCRISPRAnnotationData/ncbiAnnotations_02_11_18SR.json')))\n",
    "cone = pd.DataFrame(json.load(open('allCRISPRAnnotationData/CRISPRone_files/mp_CRISPRoneAnnotations_01_11_18SR.json')))"
   ]
  },
  {
   "cell_type": "code",
   "execution_count": 37,
   "metadata": {},
   "outputs": [
    {
     "name": "stdout",
     "output_type": "stream",
     "text": [
      "(10614, 15)\n",
      "(11102, 26)\n",
      "(11102, 7)\n"
     ]
    }
   ],
   "source": [
    "print(gbsum.shape)\n",
    "print(ncbi.shape)\n",
    "print(cone.shape)"
   ]
  },
  {
   "cell_type": "code",
   "execution_count": 39,
   "metadata": {},
   "outputs": [],
   "source": [
    "ncbi = ncbi.fillna('None') #fill NaN floats with string 'None'\n",
    "ncbi['RefSeq_clean'] = ncbi['RefSeq assembly accession'].apply(lambda x: x.strip(' (latest)'))"
   ]
  },
  {
   "cell_type": "code",
   "execution_count": 40,
   "metadata": {},
   "outputs": [
    {
     "name": "stdout",
     "output_type": "stream",
     "text": [
      "(11144, 33)\n"
     ]
    },
    {
     "data": {
      "text/plain": [
       "Cas Proteins (CRISPRone)                          [cas2, cas1, cas6e, cas5, cas7, cse2gr11, cas8...\n",
       "GCA                                                                      GCA_000195995.1_ASM19599v1\n",
       "Name                                              Salmonella enterica subsp. enterica serovar Ty...\n",
       "No. Arrays (CRISPRone)                                                                            1\n",
       "No. Cas Proteins (CRISPRone)                                                                      8\n",
       "Report_URL                                        http://omics.soic.indiana.edu/CRISPRone/check....\n",
       "System Types (CRISPRone)                                                                         NA\n",
       "Assembly anomaly                                                                               None\n",
       "Assembly level                                                                      Complete Genome\n",
       "Assembly method                                                                                None\n",
       "BioProject                                                                                 PRJNA236\n",
       "BioSample                                                                              SAMEA1705914\n",
       "Date                                                                                     2003/05/06\n",
       "Excluded from RefSeq                                                                           None\n",
       "Expected final version                                                                         None\n",
       "GenBank assembly accession                                                 GCA_000195995.1 (latest)\n",
       "Genome coverage                                                                                None\n",
       "Genome representation                                                                          full\n",
       "ID                                                                                             None\n",
       "Infraspecific name                                                                     Strain: CT18\n",
       "Isolate                                                                                        None\n",
       "Organism                                                                                       None\n",
       "Organism name                                     Salmonella enterica subsp. enterica serovar Ty...\n",
       "RefSeq assembly accession                                                  GCF_000195995.1 (latest)\n",
       "RefSeq assembly and GenBank assembly identical                                                  yes\n",
       "RefSeq category                                                                    reference genome\n",
       "Reference guided assembly                                                                      None\n",
       "Relation to type material                                                                      None\n",
       "Release type                                                                                   None\n",
       "Sequencing technology                                                                          None\n",
       "Single-cell amplification                                                                      None\n",
       "Submitter                                                                          Sanger Institute\n",
       "RefSeq_clean                                                                        GCF_000195995.1\n",
       "Name: 0, dtype: object"
      ]
     },
     "execution_count": 40,
     "metadata": {},
     "output_type": "execute_result"
    }
   ],
   "source": [
    "gcn = pd.merge(cone, ncbi, on='GCA') # merge CRISPRone annotations with NCBI info, for merging with gbffsummary\n",
    "print(gcn.shape)\n",
    "gcn.iloc[0]"
   ]
  },
  {
   "cell_type": "code",
   "execution_count": null,
   "metadata": {},
   "outputs": [],
   "source": []
  }
 ],
 "metadata": {
  "kernelspec": {
   "display_name": "Python 3",
   "language": "python",
   "name": "python3"
  },
  "language_info": {
   "codemirror_mode": {
    "name": "ipython",
    "version": 3
   },
   "file_extension": ".py",
   "mimetype": "text/x-python",
   "name": "python",
   "nbconvert_exporter": "python",
   "pygments_lexer": "ipython3",
   "version": "3.7.0"
  }
 },
 "nbformat": 4,
 "nbformat_minor": 2
}
