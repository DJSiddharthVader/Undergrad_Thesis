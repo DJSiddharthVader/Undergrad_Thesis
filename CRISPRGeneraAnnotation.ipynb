{
 "cells": [
  {
   "cell_type": "code",
   "execution_count": 64,
   "metadata": {},
   "outputs": [],
   "source": [
    "import json\n",
    "import pandas as pd"
   ]
  },
  {
   "cell_type": "code",
   "execution_count": 65,
   "metadata": {},
   "outputs": [],
   "source": [
    "gbsum = pd.read_csv('allCRISPRAnnotationData/gbffsumarry.csv',delimiter='~')\n",
    "ncbi = pd.DataFrame(json.load(open('allCRISPRAnnotationData/ncbiAnnotations_02_11_18SR.json')))\n",
    "cone = pd.DataFrame(json.load(open('allCRISPRAnnotationData/CRISPRone_files/mp_CRISPRoneAnnotations_01_11_18SR.json')))"
   ]
  },
  {
   "cell_type": "code",
   "execution_count": 66,
   "metadata": {},
   "outputs": [],
   "source": [
    "ncbi = ncbi.fillna('None') #fill NaN floats with string 'None'\n",
    "ncbi['GCF'] = ncbi['RefSeq assembly accession'].apply(lambda x: x.strip(' (latest)'))"
   ]
  },
  {
   "cell_type": "code",
   "execution_count": 67,
   "metadata": {},
   "outputs": [
    {
     "data": {
      "text/plain": [
       "Assembly anomaly                                                                               None\n",
       "Assembly level                                                                      Complete Genome\n",
       "Assembly method                                                                                None\n",
       "BioProject                                                                                 PRJNA236\n",
       "BioSample                                                                              SAMEA1705914\n",
       "Date                                                                                     2003/05/06\n",
       "Excluded from RefSeq                                                                           None\n",
       "Expected final version                                                                         None\n",
       "GCA                                                                      GCA_000195995.1_ASM19599v1\n",
       "GenBank assembly accession                                                 GCA_000195995.1 (latest)\n",
       "Genome coverage                                                                                None\n",
       "Genome representation                                                                          full\n",
       "ID                                                                                             None\n",
       "Infraspecific name                                                                     Strain: CT18\n",
       "Isolate                                                                                        None\n",
       "Organism                                                                                       None\n",
       "Organism name                                     Salmonella enterica subsp. enterica serovar Ty...\n",
       "RefSeq assembly accession                                                  GCF_000195995.1 (latest)\n",
       "RefSeq assembly and GenBank assembly identical                                                  yes\n",
       "RefSeq category                                                                    reference genome\n",
       "Reference guided assembly                                                                      None\n",
       "Relation to type material                                                                      None\n",
       "Release type                                                                                   None\n",
       "Sequencing technology                                                                          None\n",
       "Single-cell amplification                                                                      None\n",
       "Submitter                                                                          Sanger Institute\n",
       "GCF                                                                                 GCF_000195995.1\n",
       "Name: 0, dtype: object"
      ]
     },
     "execution_count": 67,
     "metadata": {},
     "output_type": "execute_result"
    }
   ],
   "source": [
    "ncbi.iloc[0]"
   ]
  },
  {
   "cell_type": "code",
   "execution_count": 68,
   "metadata": {},
   "outputs": [
    {
     "data": {
      "text/plain": [
       "Filepath                /home/sid/thesis_SidReed/bacterialGBFFs/rawdat...\n",
       "GCF                                                       GCF_000005825.2\n",
       "Accession Number                                                NC_013791\n",
       "Organism                                        Bacillus pseudofirmus OF4\n",
       "Genus                                                            Bacillus\n",
       "Taxonomy                Bacteria;Firmicutes;Bacilli;Bacillales;Bacilla...\n",
       "IsComplete                                                   full length.\n",
       "NCBI_CRISPR_Arrays                                                      0\n",
       "Genes (total)                                                        4263\n",
       "CDS (total)                                                          4159\n",
       "Genes (coding)                                                       4104\n",
       "CDS (coding)                                                         4104\n",
       "Genes (RNA)                                                           104\n",
       "tRNAs                                                                  77\n",
       "ncRNAs                                                                  5\n",
       "Pseudo Genes (total)                                                   55\n",
       "Name: 0, dtype: object"
      ]
     },
     "execution_count": 68,
     "metadata": {},
     "output_type": "execute_result"
    }
   ],
   "source": [
    "gbsum.iloc[0]"
   ]
  },
  {
   "cell_type": "code",
   "execution_count": 75,
   "metadata": {},
   "outputs": [
    {
     "name": "stdout",
     "output_type": "stream",
     "text": [
      "(11144, 33)\n",
      "(8269, 42)\n",
      "(8269, 48)\n"
     ]
    },
    {
     "data": {
      "text/plain": [
       "Cas Proteins (CRISPRone)                                                                [No System]\n",
       "GCA                                                                       GCA_000013425.1_ASM1342v1\n",
       "Name                                                  Staphylococcus aureus subsp. aureus NCTC 8325\n",
       "No. Arrays (CRISPRone)                                                                           -1\n",
       "No. Cas Proteins (CRISPRone)                                                                     -1\n",
       "Report_URL                                        http://omics.soic.indiana.edu/CRISPRone/check....\n",
       "System Types (CRISPRone)                                                                  No System\n",
       "Assembly anomaly                                                                               None\n",
       "Assembly level                                                                      Complete Genome\n",
       "Assembly method                                                                                None\n",
       "BioProject                                                                                 PRJNA237\n",
       "BioSample                                                                              SAMN02604235\n",
       "Date                                                                                     2006/02/13\n",
       "Excluded from RefSeq                                                                           None\n",
       "Expected final version                                                                         None\n",
       "GenBank assembly accession                                                 GCA_000013425.1 (latest)\n",
       "Genome coverage                                                                                None\n",
       "Genome representation                                                                          full\n",
       "ID                                                                                             None\n",
       "Infraspecific name                                                                Strain: NCTC 8325\n",
       "Isolate                                                                                        None\n",
       "Organism_x                                                                                     None\n",
       "Organism name                                     Staphylococcus aureus subsp. aureus NCTC 8325 ...\n",
       "RefSeq assembly accession                                                  GCF_000013425.1 (latest)\n",
       "RefSeq assembly and GenBank assembly identical                                                  yes\n",
       "RefSeq category                                                                    reference genome\n",
       "Reference guided assembly                                                                      None\n",
       "Relation to type material                                                                      None\n",
       "Release type                                                                                   None\n",
       "Sequencing technology                                                                          None\n",
       "Single-cell amplification                                                                      None\n",
       "Submitter                                             University of Oklahoma Health Sciences Center\n",
       "GCF                                                                                 GCF_000013425.1\n",
       "Filepath                                          /home/sid/thesis_SidReed/bacterialGBFFs/rawdat...\n",
       "Accession Number                                                                          NC_007795\n",
       "Organism_y                                            Staphylococcus aureus subsp. aureus NCTC 8325\n",
       "Genus                                                                                Staphylococcus\n",
       "Taxonomy                                          Bacteria;Firmicutes;Bacilli;Bacillales;Staphyl...\n",
       "IsComplete                                                                             full length.\n",
       "NCBI_CRISPR_Arrays                                                                                0\n",
       "Genes (total)                                                                                   NaN\n",
       "CDS (total)                                                                                     NaN\n",
       "Genes (coding)                                                                                  NaN\n",
       "CDS (coding)                                                                                    NaN\n",
       "Genes (RNA)                                                                                     NaN\n",
       "tRNAs                                                                                           NaN\n",
       "ncRNAs                                                                                          NaN\n",
       "Pseudo Genes (total)                                                                            NaN\n",
       "Name: 1, dtype: object"
      ]
     },
     "execution_count": 75,
     "metadata": {},
     "output_type": "execute_result"
    }
   ],
   "source": [
    "cn = pd.merge(cone, ncbi, how='inner', on='GCA') # merge CRISPRone annotations with NCBI info, for merging with gbffsummary\n",
    "print(cn.shape)\n",
    "# gc = pd.merge(cone,gbsum,how='inner',on='GCF')\n",
    "# print(gc.shape)\n",
    "ng = pd.merge(ncbi,gbsum,how='inner',on='GCF')\n",
    "print(ng.shape)\n",
    "gcn = pd.merge(cn, gbsum, how='inner', on='GCF') #merfe with gbff summary, all annotation,ncbi data traced back to gbff summary and filepaths on infoserv\n",
    "print(gcn.shape) #should be 10614\n",
    "gcn.iloc[1]"
   ]
  },
  {
   "cell_type": "code",
   "execution_count": 95,
   "metadata": {},
   "outputs": [
    {
     "name": "stdout",
     "output_type": "stream",
     "text": [
      "976\n"
     ]
    },
    {
     "data": {
      "text/plain": [
       "316"
      ]
     },
     "execution_count": 95,
     "metadata": {},
     "output_type": "execute_result"
    }
   ],
   "source": [
    "# cas = gcn['Cas Proteins (CRISPRone)'].apply(lambda x:set(x))\n",
    "# cas\n",
    "print(len(set(gcn['Genus'])))\n",
    "gcn['isCRISPR'] = gcn['Cas Proteins (CRISPRone)'].apply(lambda x:False if ('No System' in x) or (len(x) == 0) else True)\n",
    "nocrisprtaxa = gcn[gcn['isCRISPR'] == False]\n",
    "mixedgen = set(gcn[gcn['isCRISPR'] == True]['Genus'])\n",
    "nocgen = set(nocrisprtaxa['Genus'])\n",
    "exNonCGen = nocgen - nocgen.intersection(mixedgen)\n",
    "len(exNonCGen)"
   ]
  },
  {
   "cell_type": "code",
   "execution_count": 97,
   "metadata": {},
   "outputs": [
    {
     "name": "stdout",
     "output_type": "stream",
     "text": [
      "6\n"
     ]
    },
    {
     "data": {
      "text/plain": [
       "['Borrelia',\n",
       " 'Chlamydia',\n",
       " 'Ehrlichia',\n",
       " 'Prochlorococcus',\n",
       " 'Blattabacterium',\n",
       " 'Xylella']"
      ]
     },
     "execution_count": 97,
     "metadata": {},
     "output_type": "execute_result"
    }
   ],
   "source": [
    "above10g = [x for x in exNonCGen if gcn[gcn['Genus'] == x].shape[0] > 10]\n",
    "print(len(above10g))\n",
    "above10g"
   ]
  },
  {
   "cell_type": "code",
   "execution_count": 104,
   "metadata": {},
   "outputs": [],
   "source": [
    "noncg = gcn[gcn['Genus'] == 'Xylella']\n",
    "# noncg\n",
    "with open('xylella_nocrispr_file_paths.txt','w') as out:\n",
    "    for taxa in noncg['Filepath']:\n",
    "        out.write(taxa + '\\n')"
   ]
  }
 ],
 "metadata": {
  "kernelspec": {
   "display_name": "Python 3",
   "language": "python",
   "name": "python3"
  },
  "language_info": {
   "codemirror_mode": {
    "name": "ipython",
    "version": 3
   },
   "file_extension": ".py",
   "mimetype": "text/x-python",
   "name": "python",
   "nbconvert_exporter": "python",
   "pygments_lexer": "ipython3",
   "version": "3.7.0"
  }
 },
 "nbformat": 4,
 "nbformat_minor": 2
}
